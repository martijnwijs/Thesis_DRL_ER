{
 "cells": [
  {
   "cell_type": "code",
   "execution_count": 8,
   "id": "b51e8e63",
   "metadata": {},
   "outputs": [],
   "source": [
    "import pandas as pd\n",
    "import numpy as np\n",
    "import os\n",
    "# for each morphologie find best test\n",
    "morphologies = ('gecko6', 'gecko10', 'gecko14', 'snake6', 'snake10', 'snake14', 'spider6', 'spider10', 'spider14', 'T6', 'T10', 'T14')\n",
    "best_runs = []\n",
    "for morphologie in morphologies:\n",
    "    maxlist = []\n",
    "    for i in range(1, 11):\n",
    "        df = pd.read_csv(f'data/PPO/{morphologie}/database{i}/fitnesses.csv')\n",
    "        maxlist.append(df[\"fitness\"].max())\n",
    "    best_run = np.argmax(np.array(maxlist)) + 1 # highest achieved fitness of all experiments\n",
    "    best_runs.append((best_run, morphologie))\n",
    "    # now make a video of this experience\n",
    "\n",
    "    \n",
    "        \n",
    "        "
   ]
  },
  {
   "cell_type": "code",
   "execution_count": 9,
   "id": "d7a1aae5",
   "metadata": {},
   "outputs": [
    {
     "data": {
      "text/plain": [
       "[(10, 'gecko6'),\n",
       " (2, 'gecko10'),\n",
       " (2, 'gecko14'),\n",
       " (9, 'snake6'),\n",
       " (6, 'snake10'),\n",
       " (1, 'snake14'),\n",
       " (6, 'spider6'),\n",
       " (7, 'spider10'),\n",
       " (4, 'spider14'),\n",
       " (10, 'T6'),\n",
       " (9, 'T10'),\n",
       " (6, 'T14')]"
      ]
     },
     "execution_count": 9,
     "metadata": {},
     "output_type": "execute_result"
    }
   ],
   "source": [
    "best_runs"
   ]
  }
 ],
 "metadata": {
  "kernelspec": {
   "display_name": "Python 3 (ipykernel)",
   "language": "python",
   "name": "python3"
  },
  "language_info": {
   "codemirror_mode": {
    "name": "ipython",
    "version": 3
   },
   "file_extension": ".py",
   "mimetype": "text/x-python",
   "name": "python",
   "nbconvert_exporter": "python",
   "pygments_lexer": "ipython3",
   "version": "3.8.13"
  }
 },
 "nbformat": 4,
 "nbformat_minor": 5
}
